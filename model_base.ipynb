{
 "cells": [
  {
   "cell_type": "code",
   "execution_count": 8,
   "id": "cfcb5804",
   "metadata": {},
   "outputs": [
    {
     "name": "stdout",
     "output_type": "stream",
     "text": [
      "✅ TensorFlow version: 2.20.0\n",
      "✅ Device list: [PhysicalDevice(name='/physical_device:CPU:0', device_type='CPU')]\n"
     ]
    }
   ],
   "source": [
    "import tensorflow as tf\n",
    "print(\"✅ TensorFlow version:\", tf.__version__)\n",
    "print(\"✅ Device list:\", tf.config.list_physical_devices())"
   ]
  },
  {
   "cell_type": "code",
   "execution_count": 9,
   "id": "57c3e14b",
   "metadata": {},
   "outputs": [],
   "source": [
    "import tensorflow as tf\n",
    "from tensorflow.keras.applications import MobileNetV2\n",
    "from tensorflow.keras.preprocessing import image\n",
    "from tensorflow.keras.applications.mobilenet_v2 import preprocess_input, decode_predictions\n",
    "import numpy as np"
   ]
  },
  {
   "cell_type": "code",
   "execution_count": 10,
   "id": "a995b9fd",
   "metadata": {},
   "outputs": [
    {
     "name": "stdout",
     "output_type": "stream",
     "text": [
      "✅ Model loaded successfully!\n"
     ]
    }
   ],
   "source": [
    "# Load MobileNetV2 with ImageNet weights\n",
    "model = MobileNetV2(weights=\"imagenet\")\n",
    "print(\"✅ Model loaded successfully!\")"
   ]
  },
  {
   "cell_type": "code",
   "execution_count": 11,
   "id": "08797d18",
   "metadata": {},
   "outputs": [],
   "source": [
    "def predict_food(img_path):\n",
    "    # Step 1: Load image & resize\n",
    "    img = image.load_img(img_path, target_size=(224, 224))\n",
    "    \n",
    "    # Step 2: Convert to array\n",
    "    x = image.img_to_array(img)\n",
    "    x = np.expand_dims(x, axis=0)\n",
    "    \n",
    "    # Step 3: Preprocess for MobileNet\n",
    "    x = preprocess_input(x)\n",
    "    \n",
    "    # Step 4: Make prediction\n",
    "    preds = model.predict(x)\n",
    "    \n",
    "    # Step 5: Decode predictions\n",
    "    results = decode_predictions(preds, top=3)[0]\n",
    "    return results"
   ]
  },
  {
   "cell_type": "code",
   "execution_count": 12,
   "id": "97be0a17",
   "metadata": {},
   "outputs": [
    {
     "name": "stdout",
     "output_type": "stream",
     "text": [
      "\u001b[1m1/1\u001b[0m \u001b[32m━━━━━━━━━━━━━━━━━━━━\u001b[0m\u001b[37m\u001b[0m \u001b[1m1s\u001b[0m 1s/step\n",
      "🍴 Predictions:\n",
      "1. guacamole (20.75%)\n",
      "2. potpie (14.52%)\n",
      "3. caldron (5.66%)\n"
     ]
    }
   ],
   "source": [
    "results = predict_food(\"image2.png\")\n",
    "\n",
    "print(\"🍴 Predictions:\")\n",
    "for i, (imagenetID, label, prob) in enumerate(results):\n",
    "    print(f\"{i+1}. {label} ({prob*100:.2f}%)\")"
   ]
  }
 ],
 "metadata": {
  "kernelspec": {
   "display_name": "env",
   "language": "python",
   "name": "python3"
  },
  "language_info": {
   "codemirror_mode": {
    "name": "ipython",
    "version": 3
   },
   "file_extension": ".py",
   "mimetype": "text/x-python",
   "name": "python",
   "nbconvert_exporter": "python",
   "pygments_lexer": "ipython3",
   "version": "3.12.9"
  }
 },
 "nbformat": 4,
 "nbformat_minor": 5
}
